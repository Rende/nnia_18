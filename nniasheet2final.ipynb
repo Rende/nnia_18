{
 "cells": [
  {
   "cell_type": "markdown",
   "metadata": {},
   "source": [
    "# Exercise Sheet 2: Linear Algebra and TensorFlow Basics (Deadline: 14 Nov 14:00)"
   ]
  },
  {
   "cell_type": "markdown",
   "metadata": {
    "collapsed": true
   },
   "source": [
    "# Linear Algebra (11 points)\n",
    "For theoretical tasks you are encouraged to write LaTeX. Jupyter notebooks support them simply by typing an expression between dollar signs or in the blocks like \\ begin{equation} \\ end{equation}.\n",
    "\n",
    "\n",
    "Alternatively, you can upload the solutions in the written form as images and paste them inside cells. But if you do this, make sure that the images have high quality, so we can read them without any problems."
   ]
  },
  {
   "cell_type": "markdown",
   "metadata": {},
   "source": [
    "### 1. Orthogonal vectors (1 point)\n",
    "Let $a, b$ be non-zero vectors in $R^n$. Show that $a^T b$ = 0 **if and only if** a and b are orthogonal vectors (i.e. angle between them equals $\\frac{\\pi}{2} + k \\pi$ radians).\n",
    "\n",
    "Hint: be careful to prove 2 directions: \n",
    "1.) $a^T b$ = 0 $\\implies$ orthogonality and 2.) orthogonality $\\implies$ $a^T b$ = 0.\n",
    "\n",
    "1.) $a^T b$ = 0 $\\implies$ orthogonality \n",
    "\n",
    "$a^T b = ||a^T||||b||\\cos \\theta = 0$ ($\\theta$: the angle between $a$ and $b$)\n",
    "\n",
    "As $a$ and $b$ are non-zero vectors, it follows from the axiom of positive definiteness that $||a^T||\\neq 0$ and $||b||\\neq 0$. Then $\\cos \\theta = 0$, $\\theta = \\frac{\\pi}{2} + k \\pi$ and $a$ and $b$ are orthogonal.\n",
    "\n",
    "2.) orthogonality $\\implies$ $a^T b$ = 0 \n",
    "\n",
    "$a$ and $b$ are orthogonal, so $\\theta = \\frac{\\pi}{2} + k \\pi$ and $\\cos \\theta = 0$\n",
    "\n",
    "$ ||a^T||||b||\\cos \\theta = ||a^T||||b||*0 = a^T b = 0 $\n",
    "\n",
    "\n",
    "\n",
    "### 2. Interpretation of matrix multiplication (2 points)\n",
    "Let \n",
    "$$\n",
    "A=\\begin{bmatrix} 2 & 4 \\\\ 4 & 2 \\\\ 2 & 0 \\end{bmatrix} \\ \\ \\ \\ \n",
    "B=\\begin{bmatrix} 0.6 & -0.8 \\\\ 0.8 & 0.6 \\end{bmatrix}\n",
    "$$\n",
    "a. Are the column vectors of B orthogonal? Orthonormal? Is B a rotation matrix? Justify your answers.(0.5 points)\n",
    "\n",
    "$b_1$ and $b_2$ are the column vectors of B. <br>\n",
    "$b_1 \\cdot b_2 = 0.6*(-0.8) + 0.8*0.6 = 0 \\implies b_1$ and $b_2$ are **orthogonal** <br>\n",
    "$||b_1|| = \\sqrt{0.6^2 + 0.8^2} = 1$<br>\n",
    "$||b_2|| = \\sqrt{(-0.8)^2 + 0.6^2} = 1$ <br>\n",
    "$a$ and $b$ are orthogonal and unit vectors, so they are **orthonormal**.\n",
    "\n",
    "$B$ is a **rotation matrix** since $B B^T = I$ and $\\det B = 1$ <br>\n",
    "\n",
    "$ B \\cdot B^T= \n",
    "  \\begin{bmatrix}\n",
    "    0.6 & -0.8\\\\\n",
    "    0.8 & 0.6\n",
    "  \\end{bmatrix}\n",
    "  \\cdot\n",
    "   \\begin{bmatrix}\n",
    "    0.6 & 0.8\\\\\n",
    "    -0.8 & 0.6\n",
    "  \\end{bmatrix} =\n",
    "   \\begin{bmatrix}\n",
    "    1 & 0\\\\\n",
    "    0 & 1\n",
    "  \\end{bmatrix} = I \n",
    "$\n",
    "\n",
    "$detB = 0.6*0.6 - (-0.8)*0.8 = 1$ <br>\n",
    "\n",
    "\n",
    "b. Calculate $A \\cdot B$. (0.5 points) <br>\n",
    "\n",
    "$ A \\cdot B= \n",
    "  \\begin{bmatrix}\n",
    "   2 & 4 \\\\\n",
    "   4 & 2\\\\\n",
    "   2 & 0\n",
    "  \\end{bmatrix}\n",
    "  \\cdot\n",
    "    \\begin{bmatrix}\n",
    "    0.6 & -0.8\\\\\n",
    "    0.8 & 0.6\n",
    "  \\end{bmatrix} =\n",
    "   \\begin{bmatrix}\n",
    "   2*0.6+4*0.8 & 2*(-0.8)+4*0.6\\\\\n",
    "   4*0.6+2*0.8 & 4*(-0.8)+2*0.6\\\\\n",
    "   2*0.6+0 & 2*(-0.8)+0\n",
    "  \\end{bmatrix} = \n",
    "  \\begin{bmatrix}\n",
    "   4.4 & 0.8\\\\\n",
    "   4.0 & -2 \\\\\n",
    "   1.2 & -1.6\n",
    "  \\end{bmatrix}\n",
    "$\n",
    "\n",
    "\n",
    "c. What is the interpretation of a matrix multiplication, when the column vectors of B are orthonormal (you may want to draw a simple picture visualizing row vectors of A and column vectors of B, but you don't need to submit it)? (1 point)\n",
    "\n",
    "Above we proved that B is a rotation matrix. Multiplying the row vectors of A by B has the effect of rotating the vectors. Thereby their length and the angles between them are preserved. Thus we can think of the row vectors of A as points in n-space which is transformed into the points AB into n-space. Note that B represents rotation and a special orthogonal matrix since detB = +1.\n",
    "\n",
    "\n",
    "### 3. Property of $X^T X$ matrix (1 point)\n",
    "Let $X \\in R^{m×n}$ be a matrix obtained by stacking all training vectors (also called \"design matrix\"), like in the lecture. Obviously, it can be an arbritrary matrix. However a covariance matrix $C = X^T X$ has some interesting properties, namely it is always a positive semidefinite matrix ($v^T Cv \\geq 0$ for all non-zero $v \\in R^n$). Prove this statement.\n",
    "\n",
    "Hint: $v^T C v$ can be represented as a squared norm of some vector.\n",
    "\n",
    "\n",
    "\n",
    "### 4. Eigendecomposition (4 points)\n",
    "Consider the following matrix:\n",
    "$$\n",
    "M=\\begin{bmatrix}\n",
    "    1 & -1 & 0 \\\\\n",
    "    -1 & 2 & -1 \\\\\n",
    "    0 & -1 & 1\n",
    "  \\end{bmatrix}\n",
    "$$\n",
    "Is the matrix M:\n",
    "\n",
    "a. Symmetric? What does it imply for its eigendecomposition? (0.5 points)\n",
    "\n",
    "$M$ is symmetric as it is a square matrix and $M^T = M$. So it can be diagonalized by a a orthogonal matrix $Q$ to a diagonal matrix $\\Lambda$, whose entries are the eigenvalues of $M$ : $\\Lambda = QMQ^T$. Correspondingly, $M$ can be decomposed as $M= Q\\Lambda Q^T$\n",
    "\n",
    "b. Singular? What does it imply for its eigendecomposition? (0.5 points)\n",
    "\n",
    "$M$ is singular, as one of its eigenvalues is equal to 0. Its has linearly dependant columns, $detM = 0$ and is not invertible.\n",
    "\n",
    "c. Find the eigendecomposition of M (3 points).\n",
    "\n",
    "$\n",
    "det M= det\\left(\\begin{bmatrix}\n",
    "    1-\\lambda & -1 & 0 \\\\\n",
    "    -1 & 2-\\lambda & -1 \\\\\n",
    "    0 & -1 & 1-\\lambda\n",
    "  \\end{bmatrix}\\right) = 0\\\\\n",
    "  (1-\\lambda)\\left((2-\\lambda)(1-\\lambda)-1\\right)+(-1+\\lambda)+0 = 0 \\\\\n",
    "  (1-\\lambda)(1-3\\lambda+\\lambda^2)-1 + \\lambda = \n",
    "  -\\lambda^3 + 4\\lambda^2-3\\lambda = 0\\\\\n",
    "  \\lambda(\\lambda-3)(1-\\lambda) = 0 \\\\\n",
    "  \\lambda_1=3, \\lambda_2 = 1, \\lambda_3 = 0\n",
    "$\n",
    "\n",
    "\n",
    "$\\begin{bmatrix}\n",
    "    1-\\lambda & -1 & 0 \\\\\n",
    "    -1 & 2-\\lambda & -1 \\\\\n",
    "    0 & -1 & 1-\\lambda\n",
    "\\end{bmatrix} v = 0\n",
    "$\n",
    "\n",
    "\n",
    "for $\\lambda_1=3: \\hspace{10pt}\n",
    " \\begin{bmatrix}\n",
    "    -2 & -1 & 0 \\\\\n",
    "    -1 & -1 & -1 \\\\\n",
    "    0 & -1 & -2\n",
    "  \\end{bmatrix} v_1 = 0,  \\hspace{15pt} \n",
    "  v_1 = (1, 1, 1)$\n",
    "\n",
    "\n",
    "for $\\lambda_2=1: \\hspace{10pt}\n",
    " \\begin{bmatrix}\n",
    "    0 & -1 & 0 \\\\\n",
    "    -1 & 1 & -1 \\\\\n",
    "    0 & -1 & 0\n",
    "  \\end{bmatrix} v_2 = 0,  \\hspace{15pt} \n",
    "  v_2 = (-1, 0, 1)$\n",
    "\n",
    "for $\\lambda_3=0: \\hspace{10pt}\n",
    " \\begin{bmatrix}\n",
    "    1 & -1 & 0 \\\\\n",
    "    -1 & 2 & -1 \\\\\n",
    "    0 & -1 & 1\n",
    "  \\end{bmatrix} v_3 = 0,  \\hspace{15pt} \n",
    "  v_3 = (1, 1, 1)$\n",
    "\n",
    "### 5. Rayleigh-Ritz principle (3 points)\n",
    "On the lecture we saw that the exact solution for decoding matrix D in PCA problem is a matrix that contains the $l$ eigenvectors corresponding to the largest eigenvalues of $X^T X$, where X is a design matrix. But where does it come from?\n",
    "\n",
    "If you want to see full derivation of PCA, you can find it in Deep Learning Book, chapter 2.12. In this exercise we would like to focus only on Raleigh-Ritz principle, which allows to solve optimization problems of type $min_{||v||_2 = 1} v^T C v$ or $max_{||v||_2 = 1} v^T C v$ using eigendecomposition of C.\n",
    "\n",
    "So prove that $min_{||v||_2 = 1} v^T C v = \\lambda_{min}$, where $\\lambda_{min}$ is the smallest eigenvalue of C. For which vector $v$ this minimum is attained? (the proof for $max_{||v||_2 = 1} v^T C v = \\lambda_{max}$ is analogous)."
   ]
  },
  {
   "cell_type": "markdown",
   "metadata": {},
   "source": [
    "# TensorFlow (9 points)\n",
    "\n",
    "### 1. A simple computational graph in Tensorflow (2 + 1 = 3 points)\n",
    "To get started with TensorFlow we ask you to specify a very simple computational graph of the function $f(x) = x^2 + 2x + 5$ and also taking its derivative.\n",
    "If you don't know how to proceed, please study the example given on the lecture and also the official TenorFlow starting guide: https://www.tensorflow.org/get_started/get_started.\n",
    "\n",
    "This exercise requires around 10 lines of code, it is simple enough. However, it is very important to understand the notion of computational graph. \n",
    "\n",
    "Actually, this simple example will be a backbone for all neural networks in the future. All what we will need is to specify first the forward pass (f), and then take derivatives with respect to parameters (x), in order to update them, so they minimize the loss function f. But we will come back to this in several weeks."
   ]
  },
  {
   "cell_type": "code",
   "execution_count": 4,
   "metadata": {},
   "outputs": [
    {
     "data": {
      "image/png": "[encoded data removed]",
      "text/plain": [
       "<matplotlib.figure.Figure at 0x7fe5cc278518>"
      ]
     },
     "metadata": {},
     "output_type": "display_data"
    }
   ],
   "source": [
    "%matplotlib inline\n",
    "import tensorflow as tf\n",
    "import matplotlib.pyplot as plt\n",
    "import numpy as np\n",
    "import math\n",
    "\n",
    "### Define a simple comp. graph (note that all its components are special TensorFlow objects)\n",
    "# Specify an input x to the comp. graph\n",
    "x = tf.placeholder(tf.float32)\n",
    "\n",
    "\n",
    "# Specify f(x) = x^2 + 2x + 5 \n",
    "f = x**2 + 2*x + 5\n",
    "\n",
    "\n",
    "# Take derivative of f with respect to x. That will be very important in the future, since you will only\n",
    "# need to specify forward pass of your neural network, and all derivatives will be determined automatically by \n",
    "# TensorFlow.\n",
    "deriv = tf.gradients(f, x)\n",
    "\n",
    "### Execute the comp. graph\n",
    "# Create a TensorFlow session\n",
    "sess = tf.Session()\n",
    "interval = np.arange(-10.0, 10.0, 0.1)\n",
    "\n",
    "f_out = sess.run(f, feed_dict = {x: interval})\n",
    "deriv_out = sess.run(deriv, feed_dict = {x: interval})    \n",
    "\n",
    "# Evaluate the function value and its derivative for values from -10 to 10 with step 0.1\n",
    "\n",
    "    \n",
    "# Plot the function f (use matplotlib library)\n",
    "plt.plot(interval, f_out, label = 'f')\n",
    "\n",
    "\n",
    "# Plot the derivative of the function f\n",
    "plt.plot(interval, deriv_out[0], label=\"f '\")\n",
    "plt.legend(loc = 'upper left');"
   ]
  },
  {
   "cell_type": "markdown",
   "metadata": {},
   "source": [
    "#### Tensorflow Questions:\n",
    "1.) In the exercise above x should be a TF placeholder, but f is a TF tensor. What is the difference between a placeholder and other tensors in computational graph? And how TF Variable differs from tensors? (0.5 point)\n",
    "\n",
    "...\n",
    "\n",
    "\n",
    "2.) What does tf.Session().run(...) accept as an argument and what does it return? What is the fundamental difference between these 2 types of objects? (0.5 point)\n",
    "\n",
    "...\n"
   ]
  },
  {
   "cell_type": "markdown",
   "metadata": {},
   "source": [
    "### 2. A pure Python implementation (1 point)\n",
    "Please do the same, but in pure Python, calculating the expression for the derivative by hand. There is no need to use NumPy library, since we deal with 1-dimensional x (0.5 point). "
   ]
  },
  {
   "cell_type": "code",
   "execution_count": 5,
   "metadata": {},
   "outputs": [
    {
     "data": {
      "image/png": "[encoded data removed]",
      "text/plain": [
       "<matplotlib.figure.Figure at 0x7fe5bc2eba20>"
      ]
     },
     "metadata": {},
     "output_type": "display_data"
    }
   ],
   "source": [
    "# Evaluate the function value and its derivative for values from -10 to 10 with step 0.1\n",
    "\n",
    "# Define f\n",
    "def f(x):\n",
    "    return x**2 + 2*x + 5\n",
    "def deriv_f(x):\n",
    "    return 2*x + 2\n",
    "\n",
    "# Define f_derivative_val\n",
    "x = -10.0\n",
    "f_out = []\n",
    "deriv_out = []\n",
    "interval = []\n",
    "while (x <= 10.0):\n",
    "    interval.append(x)\n",
    "    f_out.append(f(x))\n",
    "    deriv_out.append(deriv_f(x))\n",
    "    x = x + 0.1\n",
    "\n",
    "\n",
    "# Plot the function f\n",
    "\n",
    "# Plot the derivative of the function f\n",
    "plt.plot(interval, f_out, label = 'f')\n",
    "plt.plot(interval, deriv_out, label=\"f '\")\n",
    "plt.legend(loc = 'upper left');\n"
   ]
  },
  {
   "cell_type": "markdown",
   "metadata": {},
   "source": [
    "### 3. A more complicated computational graph (5 points)\n",
    "Okay, you could easily take the derivative of $f(x) = x^2 + 2x + 5$ by hand. But what if you need to take the derivative of the function $f(x) = \\sigma(-6 \\sigma (x + 5 x^{-2} + 3 x^{-3}) + 2 \\sigma (-x + 4 x^{-2}))$ (where $\\sigma = \\frac{1}{1 + exp(-x)}$) with respect to x?\n",
    "It resembles a neural network much more than the previous example.\n",
    "Please, implement it in TensorFlow (0.5 point) and in pure Python (0.5 point) in the same way as before (but using new cells with the code below). \n",
    "\n",
    "Note that in pure Python implementation you will need to somehow overcome the numerical errors for small values of x (roughly from -0.1 to 0.1). You can just skip these values."
   ]
  },
  {
   "cell_type": "markdown",
   "metadata": {},
   "source": [
    "For pure Python implementation you will need to derive the derivative by hand (3 points). Please write down your derivation for the new $f(x)$ (you are encouraged to write LaTeX for them):\n",
    "\n",
    "$\\frac{df}{dx}$ = ...\n",
    "\n",
    "Hint 1: you may want to use a new variable to simplify your derivations, for example setting $a = -6 \\sigma (x + 5 x^{-2} + 3 x^{-3}) + 2 \\sigma (-x + 4 x^{-2})$ can help. Don't worry if the final expression is quite ugly, it is supposed to be so.\n",
    "\n",
    "Hint 2: your derived expression for $\\frac{df}{dx}$ should produce exactly the same values (up to the float type precision) as TensorFlow derivative.\n",
    "\n"
   ]
  },
  {
   "cell_type": "code",
   "execution_count": 6,
   "metadata": {},
   "outputs": [
    {
     "data": {
      "image/png": "[encoded data removed]",
      "text/plain": [
       "<matplotlib.figure.Figure at 0x7fe5bc29e5f8>"
      ]
     },
     "metadata": {},
     "output_type": "display_data"
    }
   ],
   "source": [
    "# Please paste the code from your above TensorFlow implementation, \n",
    "# but specify the new f(x) and produce the corresponding plots\n",
    "\n",
    "x = tf.placeholder(tf.float32)\n",
    "f = tf.sigmoid( -6 * (tf.sigmoid( x + 5 * x**(-2) + 3* x**(-3)) + 2 * tf.sigmoid(-x + 4 * x **(-2))))\n",
    "\n",
    "deriv = tf.gradients(f, x)\n",
    "interval = np.arange(-10.0, 10.0, 0.1)\n",
    "\n",
    "f_out = sess.run(f, feed_dict = {x: interval})\n",
    "deriv_out = sess.run(deriv, feed_dict = {x: interval}) \n",
    "plt.plot(interval, f_out, label = 'f')\n",
    "\n",
    "\n",
    "# Plot the derivative of the function f\n",
    "plt.plot(interval, deriv_out[0], label=\"f '\")\n",
    "plt.legend(loc = 'upper left');\n"
   ]
  },
  {
   "cell_type": "code",
   "execution_count": null,
   "metadata": {
    "collapsed": true
   },
   "outputs": [],
   "source": [
    "# Please paste the code from your above pure Python implementation, \n",
    "# but specify the new f(x) and its derivative that you calculated manually and produce the corresponding plots"
   ]
  },
  {
   "cell_type": "markdown",
   "metadata": {},
   "source": [
    "#### Questions (1 point)\n",
    "1.) What is the main difference in the program structure between TensorFlow and plain Python? (0.5 point)\n",
    "\n",
    "...\n",
    "\n",
    "2.) Does TensorFlow provide numerical or automatic differentiation? What are advantages of this way of differentiation? (0.5 point)\n",
    "\n",
    "...\n"
   ]
  },
  {
   "cell_type": "markdown",
   "metadata": {},
   "source": [
    "## Submission instructions\n",
    "You should provide a single Jupyter notebook as a solution. The naming should include the assignment number and matriculation IDs of all team members in the following format:\n",
    "**assignment-1_matriculation1_matriculation_2_matriculation3.ipynb** (in case of 3 team members). \n",
    "Make sure to keep the order matriculation1_matriculation_2_matriculation3 the same for all assignments.\n",
    "\n",
    "Please, submit your solution to your tutor (with **[NNIA][assignment-2]** in email subject):\n",
    "1. Maksym Andriushchenko s8mmandr@stud.uni-saarland.de\n",
    "2. Marius Mosbach s9msmosb@stud.uni-saarland.de\n",
    "3. Rajarshi Biswas rbisw17@gmail.com\n",
    "4. Marimuthu Kalimuthu s8makali@stud.uni-saarland.de\n",
    "\n",
    "**If you are in a team, please submit only 1 solution to only 1 tutor.**"
   ]
  },
  {
   "cell_type": "code",
   "execution_count": null,
   "metadata": {
    "collapsed": true
   },
   "outputs": [],
   "source": []
  }
 ],
 "metadata": {
  "kernelspec": {
   "display_name": "Python 3",
   "language": "python",
   "name": "python3"
  },
  "language_info": {
   "codemirror_mode": {
    "name": "ipython",
    "version": 3
   },
   "file_extension": ".py",
   "mimetype": "text/x-python",
   "name": "python",
   "nbconvert_exporter": "python",
   "pygments_lexer": "ipython3",
   "version": "3.6.2"
  }
 },
 "nbformat": 4,
 "nbformat_minor": 2
}
