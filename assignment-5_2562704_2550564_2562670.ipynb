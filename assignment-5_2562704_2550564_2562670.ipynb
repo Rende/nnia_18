{
 "cells": [
  {
   "cell_type": "markdown",
   "metadata": {},
   "source": [
    "# Assignment Sheet 5: Classification with TensorFlow (deadline: 8 Dec, 23:59)"
   ]
  },
  {
   "cell_type": "markdown",
   "metadata": {},
   "source": [
    "---"
   ]
  },
  {
   "cell_type": "markdown",
   "metadata": {},
   "source": [
    "## 1. Practicing Chain-Rule and Backpropagation (5.0 points)"
   ]
  },
  {
   "cell_type": "markdown",
   "metadata": {},
   "source": [
    "Given the following function $$ f(w, b) = \\frac{e^{w+b} w + \\sigma(w) + b}{(\\sigma(b) + \\sigma(w))²}$$ with $\\sigma(x) = \\frac{1}{1+e^{-x}}$ and $w, b \\in \\mathbb{R}$."
   ]
  },
  {
   "cell_type": "markdown",
   "metadata": {},
   "source": [
    "$a)$ Compute the partial derivatives of $f(w, b)$ with respect to $w$ and $b$ analytically. ($0.5$ points)"
   ]
  },
  {
   "cell_type": "markdown",
   "metadata": {},
   "source": [
    "$$ f(w, b) = \\frac{e^{w+b} w + \\frac{1}{1+e^{-w}} + b}{(\\frac{1}{1+e^{-b}} + \\frac{1}{1+e^{-w}})²}$$\n",
    "\n",
    "$$\\frac{\\partial f(w, b)}{\\partial w} = \\frac{\\big[e^{w+b} w + \\frac{1}{1+e^{-w}} + b\\big] = U}{\\big[\\big(\\frac{1}{1+e^{-b}} + \\frac{1}{1+e^{-w}}\\big)^2\\big] = V}; \\Big(\\frac{U}{V}\\Big)'= \\frac{U'V - V'U}{V^2}$$ \n",
    "\n",
    "$$U = e^{w+b} w + \\frac{1}{1+e^{-w}} + b  => \\frac{dU}{dw} = \\frac{d}{dw}(e^{w+b} w) + \\frac{d}{dw}\\big(1+e^{-w}\\big)^{-1} + 0$$\n",
    "\n",
    "$$ = e^{w+b} w + e^{w+b} + \\frac{d}{dw}\\big(1+e^{-w}\\big)^{-1}$$\n",
    "\n",
    "$$ = e^{w+b} w + e^{w+b} + (-1)\\big(1+e^{-w}\\big)^{-2}(e^{-w})(-1)$$ \n",
    "\n",
    "$$ U' = e^{w+b}(w+1) + \\sigma(w)(1 - \\sigma(w))$$ \n",
    "\n",
    "$$ V = \\Big(\\frac{1}{1+e^{-b}} + \\frac{1}{1+e^{-w}}\\Big)^2 => \\frac{dV}{dw} = 2\\big[\\big((1+e^{-b})^{-1} + (1+e^{-w})^{-1}\\big)\\big](-1)\\big(1+e^{-w}\\big)^{-2}(e^{-w})(-1) $$ \n",
    "\n",
    "$$ V' = 2\\big[\\sigma(b) + \\sigma(w)\\big]\\sigma(w)\\big(1 - \\sigma(w) \\big) $$ \n",
    "\n",
    "We have all ingredients, now it's time to plug them into the main equation.\n",
    "\n",
    "$$\\frac{\\partial f(w, b)}{\\partial w} =\\frac{ \\big[e^{w+b}(w+1) + \\sigma(w)(1 - \\sigma(w))\\big]\\big(\\sigma(b) + \\sigma(w)\\big)^2  - \\big[2\\big(\\sigma(b) + \\sigma(w)\\big)\\sigma(w)(1 - \\sigma(w))\\big]\\big(e^{w+b}w+ \\sigma(w)+b\\big)}{\\big(\\sigma(b) + \\sigma(w)\\big)^{4}}$$\n",
    "simplify: $$\\frac{\\partial f(w, b)}{\\partial w} =\\frac{ \\big[e^{w+b}(w+1) + \\sigma(w)(1 - \\sigma(w))\\big](\\sigma(b) + \\sigma(w))  -  2\\sigma(w)(1 - \\sigma(w))\\big(e^{w+b}w+ \\sigma(w)+b\\big)}{\\big(\\sigma(b) + \\sigma(w)\\big)^{3}}$$\n",
    "Similar process for $\\frac{\\partial f(w, b)}{\\partial b}$\n",
    "\n",
    "$$ \\frac{dU}{db} = U' = e^{w+b}w(1) + 1$$\n",
    "$$ \\frac{dV}{db} = V' = 2\\big[\\sigma(b) + \\sigma(w)\\big]\\sigma(b)\\big(1 - \\sigma(b)\\big) $$ \n",
    "\n",
    "$$\\frac{\\partial f(w, b)}{\\partial b} =\\frac{ (e^{w+b}w+1) (\\sigma(b) + \\sigma(w))  -  2(e^{w+b}+ \\sigma(w)+b)\\sigma(b)(1 - \\sigma(b))}{\\big(\\sigma(b) + \\sigma(w)\\big)^{3}}$$\n"
   ]
  },
  {
   "cell_type": "markdown",
   "metadata": {},
   "source": [
    "$b)$ Decompose the function $f(w, b)$ into primitives. Rewrite the function using these primitives. ($0.5$ points)"
   ]
  },
  {
   "cell_type": "code",
   "execution_count": 1,
   "metadata": {
    "collapsed": true,
    "scrolled": true
   },
   "outputs": [],
   "source": [
    "# TODO: Write function primitives in python\n",
    "import numpy as np\n",
    "import networkx as nx\n",
    "import matplotlib.pyplot as plt\n",
    "\n",
    "def exp(x):\n",
    "    return np.exp(x)\n",
    "\n",
    "def inv(x):\n",
    "    return (1.0/x)\n",
    "\n",
    "def neg(x):\n",
    "    return -x\n",
    "\n",
    "def plus(x, y):\n",
    "    return x + y\n",
    "    \n",
    "def multp(x, y):\n",
    "    return x * y\n",
    "\n",
    "def div(x, y):\n",
    "    return x / y\n",
    "\n",
    "def square(x):\n",
    "    return x**2\n",
    "\n",
    "def sigma(x):\n",
    "    return inv((plus(1,exp(neg(x)))))\n"
   ]
  },
  {
   "cell_type": "markdown",
   "metadata": {},
   "source": [
    "$c)$ Draw a computation graph for the function $f(w, b)$ using the primitives defined above as nodes. You may want to use the [NetworkX](https://networkx.github.io/) library for this task. You can install it by running `conda install networkx` from within your activated *nnia* conda environment. ($1.0$ point)"
   ]
  },
  {
   "cell_type": "code",
   "execution_count": 18,
   "metadata": {},
   "outputs": [
    {
     "data": {
      "image/png": "[encoded data removed]",
      "text/plain": [
       "<matplotlib.figure.Figure at 0x1a1b4de438>"
      ]
     },
     "metadata": {},
     "output_type": "display_data"
    }
   ],
   "source": [
    "G=nx.DiGraph()\n",
    "\n",
    "w = \"w\"\n",
    "b = \"b\"\n",
    "wpb = \"w+b\"\n",
    "expwpb = \"exp(w+b)\"\n",
    "a = \"a\" # exp(w+b)*w\n",
    "sigw = \"sigw\"\n",
    "sigb = \"sigb\"\n",
    "sigwpsigb=\"sigw+sigb\"\n",
    "v = \"v\"\n",
    "apsigw = \"a+sigw\"\n",
    "u = \"u\"\n",
    "f = \"u * v ^(-1)\"\n",
    "G.add_edge(w,wpb,weight=0.5)\n",
    "G.add_edge(b,wpb,weight=0.5)\n",
    "G.add_edge(w,sigw,weight=0.5)\n",
    "G.add_edge(b,sigb,weight=0.5)\n",
    "\n",
    "G.add_edge(wpb,expwpb,weight=0.5)\n",
    "G.add_edge(expwpb,a,weight=0.5)\n",
    "G.add_edge(w,a,weight=0.5)\n",
    "G.add_edge(a,apsigw,weight=0.5)\n",
    "G.add_edge(sigw,apsigw,weight=0.5)\n",
    "G.add_edge(apsigw,u,weight=0.5)\n",
    "G.add_edge(b,u,weight=0.5)\n",
    "G.add_edge(sigw,sigwpsigb,weight=0.5)\n",
    "G.add_edge(sigb,sigwpsigb,weight=0.5)\n",
    "G.add_edge(sigwpsigb,v,weight=0.5)\n",
    "G.add_edge(u,f,weight=0.5)\n",
    "G.add_edge(v,f,weight=0.5)\n",
    "pos=nx.spring_layout(G)\n",
    "nx.draw_networkx_edge_labels(G,pos, \n",
    "    {\n",
    "        (w,wpb):\"+\", (w,sigw):\"sig\", (b,sigb):\"sig\", (wpb,expwpb):\"exp\", \n",
    "        (w,sigw):\"sig\",(w,a): \"x\", (a,apsigw): \"+\", \n",
    "        (b,u): \"+\", (sigw,sigwpsigb): \"+\", (sigwpsigb,v): \"sqr\", (u,f): \"/\"\n",
    "    }\n",
    ")\n",
    "nx.draw(G,pos,node_size=1500, node_color=\"red\", with_labels = True)\n",
    "plt.show()"
   ]
  },
  {
   "cell_type": "markdown",
   "metadata": {},
   "source": [
    "$d)$ Specify $\\frac{\\partial}{\\partial x} p_i$ for each of the primitives $p_i$. ($1.0$ points)"
   ]
  },
  {
   "cell_type": "code",
   "execution_count": 3,
   "metadata": {
    "collapsed": true
   },
   "outputs": [],
   "source": [
    "# TODO: Specifiy derivatives of the primitives in python\n",
    "\n",
    "def dexp(x):\n",
    "    return np.exp(x)\n",
    "\n",
    "def dinv(x):\n",
    "    return (-1)*(x**(-2))\n",
    "\n",
    "def dneg(x):\n",
    "    return -1\n",
    "\n",
    "def dplus(dx, dy):\n",
    "    return dx + dy\n",
    "    \n",
    "def dmultp(x, y, dx, dy):\n",
    "    return (x * dy) + (dx * y)\n",
    "\n",
    "def ddiv(x, y, dx, dy):\n",
    "    return ((dx * y) - (x * dy))/ (y**2)\n",
    "\n",
    "def dsquare(x):\n",
    "    return 2 * x\n",
    "\n",
    "def dsigma(sigx):\n",
    "    return sigx * (1-sigx)"
   ]
  },
  {
   "cell_type": "markdown",
   "metadata": {},
   "source": [
    "$e)$ Given the inputs $w = 5, b = -3$. Compute the forward pass of your function. You might want to store the intermediate result in a dictionary in order to later use them in backward pass. ($1.0$ point)"
   ]
  },
  {
   "cell_type": "code",
   "execution_count": 4,
   "metadata": {},
   "outputs": [
    {
     "name": "stdout",
     "output_type": "stream",
     "text": [
      "{'expwpb': 7.3890560989306504, 'sigw': 0.99330714907571527, 'sigb': 0.047425873177566781, 'sigbpsigw': 1.040733022253282, 'inv_v': 0.92325428141030896, 'a': 36.945280494653254, 'u': 34.938587643728972, 'v': 1.0831252236084503}\n"
     ]
    }
   ],
   "source": [
    "# Compute the forward pass using the primitives defined above\n",
    "\n",
    "def forward(w, b):\n",
    "    results = {}\n",
    "    sigw = sigma(w)\n",
    "    sigb = sigma(b)\n",
    "    expwpb = multp(exp(w), exp(b))\n",
    "    a = multp(expwpb, w)\n",
    "    u = plus(plus(a, sigw), b)\n",
    "    sigbpsigw = plus(sigb, sigw)\n",
    "    v = square(sigbpsigw)\n",
    "    inv_v = inv(v)\n",
    "    f = multp(u, inv_v)\n",
    "    results[\"expwpb\"] = expwpb\n",
    "    results[\"sigw\"] = sigw\n",
    "    results[\"sigb\"] = sigb\n",
    "    results[\"sigbpsigw\"] = sigbpsigw\n",
    "    results[\"inv_v\"] = inv_v\n",
    "    results[\"a\"] = a\n",
    "    results[\"u\"] = u\n",
    "    results[\"v\"] = v\n",
    "    \n",
    "    return results\n",
    "f_results = forward(5, (-3))\n",
    "print (f_results)"
   ]
  },
  {
   "cell_type": "markdown",
   "metadata": {},
   "source": [
    "$f)$ For the same inputs as above, perform the backward pass in order to compute $\\frac{\\partial}{\\partial w}f~\\mid_{w=5, b=-3}$ and $\\frac{\\partial}{\\partial b}f~\\mid_{w=5, b=-3}$. ($1.0$ point)"
   ]
  },
  {
   "cell_type": "code",
   "execution_count": 5,
   "metadata": {},
   "outputs": [
    {
     "name": "stdout",
     "output_type": "stream",
     "text": [
      "(40.525894967790968, 32.232669268307887)\n"
     ]
    }
   ],
   "source": [
    "# TODO: Compute the backward pass using the derivatives of the primitives defined above. \n",
    "def backward(w, b):\n",
    "    # perform the backward pass (backpropagation) in reverse order:\n",
    "    # first backprop through f = u* v^-1\n",
    "    #df/du = v^-1\n",
    "    u = f_results[\"u\"]\n",
    "    v = f_results[\"v\"]\n",
    "    inv_v = f_results[\"inv_v\"]\n",
    "    du = inv_v # gradient on numerator (u)\n",
    "    dinv_v = u\n",
    "    # backprop invv = 1.0 / v\n",
    "    dv = ddiv(1.0, v, 0.0, 1.0)* dinv_v \n",
    "    # backprop denominator = v\n",
    "    dv = (1) * dv  \n",
    "    # backprop v = sigbpsigw**2\n",
    "    sigbpsigw = f_results[\"sigbpsigw\"]\n",
    "    dsigbpsigw = (dsquare(sigbpsigw)) * dv     \n",
    "    # backprop sigbpsigw = sigb + sigw\n",
    "    dsigb = (1) * dsigbpsigw\n",
    "    dsigw = (1) * dsigbpsigw\n",
    "    # backprop sigb = 1.0 / (1 + math.exp(-b))\n",
    "    sigb =  f_results[\"sigb\"]\n",
    "    sigw =  f_results[\"sigw\"]\n",
    "    db = dsigma(sigb) * dsigb\n",
    "    dw = dsigma(sigw) * dsigw\n",
    "    \n",
    "    # backprop u = a + sigw + b\n",
    "    db += (1) * du\n",
    "    dsigw = (1) * du  \n",
    "    da = (1) * du\n",
    "    a = f_results[\"a\"]\n",
    "    expwpb = f_results[\"expwpb\"]\n",
    "    # backprop a = e^(w+b)*w\n",
    "    dw += (a + expwpb) * da\n",
    "    db += a * da\n",
    "    dw += dsigma(sigw) * dsigw\n",
    "    \n",
    "    return dw, db\n",
    "print (backward(5, (-3)))"
   ]
  },
  {
   "cell_type": "markdown",
   "metadata": {},
   "source": [
    "## 2. Classification using Feedforward Neural Networks with TensorFlow (12.0 points)"
   ]
  },
  {
   "cell_type": "markdown",
   "metadata": {},
   "source": [
    "In this exercise, you will implement a feedforward neural network using TensorFlow. We will then train the neural network on a simple two class classification problem."
   ]
  },
  {
   "cell_type": "code",
   "execution_count": 6,
   "metadata": {
    "collapsed": true
   },
   "outputs": [],
   "source": [
    "# Imports\n",
    "import numpy as np\n",
    "import tensorflow as tf\n",
    "from sklearn.datasets import make_moons, make_circles\n",
    "from sklearn.model_selection import train_test_split\n",
    "\n",
    "%matplotlib inline\n",
    "import matplotlib.pyplot as plt"
   ]
  },
  {
   "cell_type": "markdown",
   "metadata": {},
   "source": [
    "Let's create some dummy data using the scikit-learn library."
   ]
  },
  {
   "cell_type": "code",
   "execution_count": 7,
   "metadata": {},
   "outputs": [
    {
     "data": {
      "image/png": "[encoded data removed]",
      "text/plain": [
       "<matplotlib.figure.Figure at 0x1a1b1c7198>"
      ]
     },
     "metadata": {},
     "output_type": "display_data"
    }
   ],
   "source": [
    "# Get some data\n",
    "X, y = make_moons(n_samples= 300, noise=0.15, random_state=123)\n",
    "\n",
    "# Split the data into training and test data\n",
    "X_train, X_test, y_train, y_test = train_test_split(X, y, test_size=.1)\n",
    "y_train = np.reshape(y_train, newshape=(-1, 1))\n",
    "y_test = np.reshape(y_test, newshape=(-1, 1))\n",
    "\n",
    "# Plot the training data and color the data point according to their class label\n",
    "fig, axes = plt.subplots(1, 1)\n",
    "axes.scatter(X_train[: , 0], X_train[: , 1], c=y_train.reshape(270,), cmap='Set1')\n",
    "axes.set_title('Training Data');"
   ]
  },
  {
   "cell_type": "markdown",
   "metadata": {},
   "source": [
    "In the following you are allowed to use predefined functions of the TensorFlow API such as `tf.get_variable()`, `tf.nn.relu(x)` or `tf.random_normal_initializer()`. Addtionally you are allowed to use the gradient descent optimizer `tf.train.GradientDescentOptimizer` predefined by TensorFlow. However, you are not allowed to use any predefined layer from the [API](https://www.tensorflow.org/api_docs/python/tf/layers) such as `tf.Layers.Dense` or `tf.contrib.layers.fully_connected`. It is your task to implement these layers yourself."
   ]
  },
  {
   "cell_type": "markdown",
   "metadata": {},
   "source": [
    "**Before you start**: In this exercise you will implement a single hidden layer feedforward neural network. In case you are unfamiliar with the terminology and notation used here, please consult chapter 6 of the Deep Learning Book before you proceed."
   ]
  },
  {
   "cell_type": "markdown",
   "metadata": {},
   "source": [
    "Generally speaking, a feedword neural network with a single hidden layer can be represented by the following function $$ f(x;\\theta) = f^{(2)}(f^{(1)}(f^{(0)}(x)))$$ where $f^{(0)}(x)$ is the input layer, $f^{(1)}(x)$ is the so called hidden layer, and $f^{(2)}(x)$ is the ouput layer of the network. $\\theta$ represents the parameters of the network whose values will be learned during the training phase."
   ]
  },
  {
   "cell_type": "markdown",
   "metadata": {},
   "source": [
    "The network that you will implement in this exercise has the following layers:\n",
    "* $f^{(0)}(x) = \\mathbf{X}$, with $\\mathbf{X} \\in \\mathbb{R}^{b, p}$ where $b$ is the batch size and $p$ is the number of features.\n",
    "* $f^{(1)}(x) = g(\\mathbf{X} \\mathbf{W_1}+b_1)$, with $\\mathbf{X} \\in \\mathbb{R}^{b, p}$, $\\mathbf{W_1} \\in \\mathbb{R}^{p,u_1}$, $b_1 \\in \\mathbb{R}^{u_1}$ where $u_1$ is the number of **units** of this particular layer. Additonally, $g(x) = \\max{\\{0, x\\}}$ is the so called **rectified linear unit** (*ReLU*) activation function. \n",
    "* $f^{(2)}(x) = \\sigma(\\mathbf{X} \\mathbf{W_2}+b_2)$, with $\\mathbf{X} \\in \\mathbb{R}^{b, u_1}$, $\\mathbf{W_1} \\in \\mathbb{R}^{u_1,u_2}$, $b_1 \\in \\mathbb{R}^{u_2}$ where $u_2$ is the number of **units** of this particular layer. Additonally, $\\sigma(x) = \\frac{1}{1 + \\exp{-x}}$ is the **sigmoid** function.\n",
    "\n",
    "Note that both, $g(x)$ and $\\sigma(x)$ are applied **elementwise**. Further the addition with the bias vector is also applied **elementwise** to each column of the matrix $\\mathbf{X} \\mathbf{W}$."
   ]
  },
  {
   "cell_type": "markdown",
   "metadata": {},
   "source": [
    "$a)$ Start the implementation of your neural network by defining functions for its different layers $f^{(0)}(x),~f^{(1)}(x),~f^{(2)}(x)$. To do so, please complete the functions skeletons below."
   ]
  },
  {
   "cell_type": "markdown",
   "metadata": {},
   "source": [
    "First, implement a linear layer that computes the linear combination $\\mathbf{X} \\mathbf{W}+b$ for a given `input_shape` of $x$ and a given number of hidden units `n_hidden_units`."
   ]
  },
  {
   "cell_type": "code",
   "execution_count": 8,
   "metadata": {
    "collapsed": true
   },
   "outputs": [],
   "source": [
    "# TODO: implement the function below.\n",
    "# Hint: The following methods might be useful: tf.get_variable(), tf.random_normal_initializer(), tf.matmul(), tf.get_variable()\n",
    "def linear_layer(input_shape, n_hidden_units, x):\n",
    "    \"\"\"\n",
    "    Define a linear layer for your neural network.\n",
    "    :param input_shape: The shape of the input for the layer. Be careful to consider that your data comes in batches. \n",
    "    :param n_hidden: The number of hidden units.\n",
    "    :param x: The input to the layer.\n",
    "    :return: A tuple where the first element is the linear combination of the input with the weights and the biases of the linear layer and the second element is the shape of the output matrix.\n",
    "    \"\"\"\n",
    "    w = tf.get_variable(\"w\",shape=[input_shape[1],n_hidden_units],initializer=tf.random_normal_initializer())\n",
    "    b = tf.get_variable(\"b\",shape=[1,n_hidden_units],initializer=tf.random_normal_initializer())\n",
    "    output = tf.add(tf.matmul(x,w),b)\n",
    "    output_shape =  output.shape\n",
    "    return (output,output_shape)"
   ]
  },
  {
   "cell_type": "markdown",
   "metadata": {},
   "source": [
    "Next, implement a function that computes the ReLU nonlinearity."
   ]
  },
  {
   "cell_type": "code",
   "execution_count": 9,
   "metadata": {
    "collapsed": true
   },
   "outputs": [],
   "source": [
    "# TODO: implement the function below.\n",
    "def relu(x):\n",
    "    \"\"\"\n",
    "    Define the ReLU activation function.\n",
    "    :param x: The input to the activation function.\n",
    "    :return: The output of the activation function.\n",
    "    \"\"\"\n",
    "    return tf.nn.relu(x)"
   ]
  },
  {
   "cell_type": "markdown",
   "metadata": {},
   "source": [
    "Next, implement a function that computes the sigmoid nonlinearity."
   ]
  },
  {
   "cell_type": "code",
   "execution_count": 10,
   "metadata": {
    "collapsed": true
   },
   "outputs": [],
   "source": [
    "# TODO: implement the function below.\n",
    "def sigmoid(x):\n",
    "    \"\"\"\n",
    "    Define the sigmoid activation function.\n",
    "    :param x: The input to the activation function.\n",
    "    :return: The output of the activation function.\n",
    "    \"\"\"\n",
    "    return tf.sigmoid(x)"
   ]
  },
  {
   "cell_type": "markdown",
   "metadata": {},
   "source": [
    "Additional to the layers above, you need to implement a layer that computes to loss between the prediction of your model and the actual label of your data. For the **loss function** of the network we are going to use the cross entropy between the model logits and the true labels. Take a look at the TensorFlow [API](https://www.tensorflow.org/api_docs/python/tf/nn/sigmoid_cross_entropy_with_logits) for further details. You also might want to take a look at page 128 in the Deep Learning Book for further information."
   ]
  },
  {
   "cell_type": "code",
   "execution_count": 11,
   "metadata": {
    "collapsed": true
   },
   "outputs": [],
   "source": [
    "# TODO: implement the function below.\n",
    "def cross_entropy_loss(labels, unscaled_logits):\n",
    "    \"\"\"\n",
    "    Define the cross entropy loss function between the true labels and the model predictions. Be careful to consider that your data comes in batches.\n",
    "    :param labels: The true labels.\n",
    "    :param unscaled_logits: The final activations produced by your model.\n",
    "    :return: The loss value (a scalar).\n",
    "    \"\"\"\n",
    "    return tf.reduce_mean(tf.nn.sigmoid_cross_entropy_with_logits(labels=labels, logits=unscaled_logits))"
   ]
  },
  {
   "cell_type": "markdown",
   "metadata": {},
   "source": [
    "Using the layers above, you can now define a function that specifies the forward pass through your network. Please make sure that the first hidden layer has $128$ hidden units and the output layer has $1$ hidden unit. **Note**: Make sure that the forward pass does not compute the final prediction of your network, i.e the value returned by the function below should be used as the input to the *sigmoid* function."
   ]
  },
  {
   "cell_type": "code",
   "execution_count": 12,
   "metadata": {
    "collapsed": true
   },
   "outputs": [],
   "source": [
    "n_hidden_units = 128\n",
    "\n",
    "# TODO: implement the function below. This is where you build up your model architecture using the layers defined above.\n",
    "def forward(x, input_shape):\n",
    "    \"\"\"\n",
    "    Define the forward pass of your network. Be careful to consider that your data comes in batches.\n",
    "    :param x: The input to your model.\n",
    "    :param input_shape: The shape of the input.\n",
    "    :return: The (unscaled) logit computed by the network.\n",
    "    \"\"\"\n",
    "    with tf.variable_scope('L1'):\n",
    "        hidden_inputs,hidden_inputs_shape = linear_layer(input_shape, n_hidden_units=n_hidden_units, x=x)\n",
    "        hidden_activations = relu(hidden_inputs)\n",
    "    with tf.variable_scope('L2'):\n",
    "        output,output_shape = linear_layer(hidden_inputs_shape, n_hidden_units=1, x=hidden_activations)\n",
    "    return output"
   ]
  },
  {
   "cell_type": "markdown",
   "metadata": {},
   "source": [
    "Now that the first part of the forward path of the neural network is defined, we need a function that computes the actual predictions of the model using the activations returned by `forward`."
   ]
  },
  {
   "cell_type": "code",
   "execution_count": 13,
   "metadata": {
    "collapsed": true
   },
   "outputs": [],
   "source": [
    "# TODO: implement the function below.\n",
    "def inference(unscaled_logits):\n",
    "    \"\"\"\n",
    "    Define the predictions computed by your network\n",
    "    :param unscaled_logits: The (unscaled) logit computed by the network.\n",
    "    :return: The prediction of your model on input x.\n",
    "    \"\"\"\n",
    "    activation = sigmoid(unscaled_logits)\n",
    "    inferences = tf.cast(tf.greater(activation, 0.5), tf.int32)\n",
    "    return inferences"
   ]
  },
  {
   "cell_type": "markdown",
   "metadata": {},
   "source": [
    "Using the `cross_entropy` layer and the `forward` function defined above, please implement the loss function for your network."
   ]
  },
  {
   "cell_type": "code",
   "execution_count": 14,
   "metadata": {
    "collapsed": true
   },
   "outputs": [],
   "source": [
    "# TODO: implement the function below.\n",
    "def loss(x, y, input_shape):\n",
    "    \"\"\"\n",
    "    Define the loss between the prediction of your model and the actual label.\n",
    "    :param x: The input to your model.\n",
    "    :param y: The shape of the input.\n",
    "    :param input_shape: The loss between what your model predicts and the true label.\n",
    "    :return: \n",
    "    \"\"\"\n",
    "    logit = forward(x, input_shape)\n",
    "    loss = cross_entropy_loss(labels=y, unscaled_logits=logit)\n",
    "    return loss"
   ]
  },
  {
   "cell_type": "markdown",
   "metadata": {},
   "source": [
    "$b)$ Define the computation graph of your model using the functions implemented above."
   ]
  },
  {
   "cell_type": "markdown",
   "metadata": {},
   "source": [
    "So far, all that you have done was defining functions that return a **symbolic representation** of the functions computed inside your network. Remember that when using TensorFlow you always need to define a computation graph of your model. Now, use the functions implemented above to define the computation graph for your model."
   ]
  },
  {
   "cell_type": "code",
   "execution_count": 15,
   "metadata": {
    "collapsed": true
   },
   "outputs": [],
   "source": [
    "# Define the computational graph for your model\n",
    "input_shape = (None, 2) # each input has 2 features\n",
    "output_shape = (None, 1) # the output of the model is a scalar corresponding to the probability of belong to class 1 or 2.\n",
    "#tf.reset_default_graph()\n",
    "# TODO: Define placeholers for the input and output\n",
    "x = tf.placeholder(dtype=tf.float32, shape=input_shape)\n",
    "y = tf.placeholder(dtype=tf.float32, shape=output_shape)\n",
    "# TODO: Define the model final activations, predictions and loss of the network\n",
    "\n",
    "final_activations = forward(x,input_shape)\n",
    "prediction = inference(final_activations)\n",
    "tf.get_variable_scope().reuse_variables()\n",
    "loss = loss(x, y, input_shape)\n",
    "\n",
    "init = tf.global_variables_initializer()\n",
    "accuracy = tf.reduce_mean(tf.to_float(tf.equal(prediction, tf.to_int32(y))))"
   ]
  },
  {
   "cell_type": "markdown",
   "metadata": {},
   "source": [
    "$b)$ Now that we have defined a computation graph for our model we need to train it on training data. Hence, define the optimizer for your model and implement the training loop. After each epoch, print the accuracy of your model on the training data. Once training phase is done, evaluate the test accuracy of your model and plot the **decision boundary** of your trained model."
   ]
  },
  {
   "cell_type": "markdown",
   "metadata": {},
   "source": [
    "Hint: When evaluating the predictions of your model make sure to compute the class labels from the output of the sigmoid layer before comparing them to the ground truth labels. As a threshold use $0.5$."
   ]
  },
  {
   "cell_type": "code",
   "execution_count": 16,
   "metadata": {
    "collapsed": true
   },
   "outputs": [],
   "source": [
    "# TODO: Define the gradient descent optimizer\n",
    "learning_rate = 1e-1\n",
    "\n",
    "optimizer = tf.train.GradientDescentOptimizer(learning_rate=learning_rate).minimize(loss)"
   ]
  },
  {
   "cell_type": "code",
   "execution_count": 17,
   "metadata": {},
   "outputs": [
    {
     "name": "stdout",
     "output_type": "stream",
     "text": [
      "epoch:  1  accuracy= 0.855556\n",
      "epoch:  2  accuracy= 0.959259\n",
      "epoch:  3  accuracy= 0.974074\n",
      "epoch:  4  accuracy= 0.977778\n",
      "epoch:  5  accuracy= 0.988889\n",
      "epoch:  6  accuracy= 0.992593\n",
      "epoch:  7  accuracy= 0.992593\n",
      "epoch:  8  accuracy= 0.992593\n",
      "epoch:  9  accuracy= 0.992593\n",
      "epoch:  10  accuracy= 0.992593\n",
      "test accuracy:  1.0\n"
     ]
    },
    {
     "data": {
      "image/png": "[encoded data removed]",
      "text/plain": [
       "<matplotlib.figure.Figure at 0x1a1b463ef0>"
      ]
     },
     "metadata": {},
     "output_type": "display_data"
    }
   ],
   "source": [
    "epochs = 10  # we train our model for 10 epochs. You can change this value to observe how the accuracy changes.\n",
    "batch_size = 10  # we use a fixed batch size of 10 data points per batch.\n",
    "n = len(X_train)\n",
    "\n",
    "# Start a Session\n",
    "with tf.Session() as sess:\n",
    "    sess.run(init)\n",
    "    for epoch in range(epochs):\n",
    "        pointer = 0\n",
    "        while pointer + batch_size <= len(X_train):\n",
    "            x_batch = X_train[pointer: pointer + batch_size]\n",
    "            y_batch = y_train[pointer: pointer + batch_size]\n",
    "            feed_dict = {x: x_batch, y: y_batch}\n",
    "            sess.run(optimizer, feed_dict=feed_dict)\n",
    "            pointer += batch_size\n",
    "        feed_dict_all = {x: X_train, y: y_train}\n",
    "        accuracy_epoch = sess.run(accuracy, feed_dict=feed_dict_all)\n",
    "        print('epoch: ', epoch + 1, ' accuracy=', accuracy_epoch)\n",
    "\n",
    "    # test model\n",
    "    feed_dict_test = {x: X_test, y: y_test}\n",
    "    accuracy_test = sess.run(accuracy, feed_dict=feed_dict_test)\n",
    "    print('test accuracy: ', accuracy_test)\n",
    "\n",
    "    # plot decision boundary\n",
    "    h = 0.15\n",
    "    x1_min, x1_max = X_test[:, 0].min() - 0.2, X_test[:, 0].max() + 0.2\n",
    "    x2_min, x2_max = X_test[:, 1].min() - 0.2, X_test[:, 1].max() + 0.2\n",
    "    x1, x2 = np.meshgrid(np.arange(x1_min, x1_max, h), np.arange(x2_min, x2_max, h))\n",
    "    X_plot = np.c_[x1.ravel(), x2.ravel()]\n",
    "    feed_dict_plot = {x: X_plot}\n",
    "    prediction_plot = sess.run(prediction, feed_dict_plot)\n",
    "\n",
    "    prediction_plot = prediction_plot.reshape(x1.shape)\n",
    "    fig, axes = plt.subplots(1, 1)\n",
    "    axes.contourf(x1, x2, prediction_plot, cmap=plt.cm.Accent)\n",
    "    axes.scatter(X_test[:, 0], X_test[:, 1], c=np.reshape(y_test, (-1,)), cmap='Set1')\n",
    "    axes.set_title('Decision Boundary')"
   ]
  },
  {
   "cell_type": "markdown",
   "metadata": {},
   "source": [
    "$d)$ **Bonus**: Restructure your code in order to use TensorBoard for displaying the computation graph defined by your model. Additonally, use TensorBoard to log the training and test accuracy of your network during training. (See [here](https://www.tensorflow.org/get_started/summaries_and_tensorboard) for an introduction to TensorBoard.) (+ $2.0$ points)"
   ]
  },
  {
   "cell_type": "markdown",
   "metadata": {},
   "source": [
    "## 3. Role of the activation function (3.0 points)"
   ]
  },
  {
   "cell_type": "markdown",
   "metadata": {},
   "source": [
    "For this exercise it is useful to have a plot of the decision boundary of your trained model."
   ]
  },
  {
   "cell_type": "markdown",
   "metadata": {},
   "source": [
    "$a)$ Remove the nonlinearity in your TensorFlow model above, then retrain the model and evaluate its accuracy. What do you observe? ($1.0$ point)\n",
    "\n",
    "\n",
    "The decision boundary is becoming a straight line; the accuracy goes down."
   ]
  },
  {
   "cell_type": "markdown",
   "metadata": {},
   "source": [
    "$b$) With the nonlinearity removed, do the following: Add an additional hidden layer without nonlinearity in the `forward()` function. Retrain the model and evaluate its accuracy. What do you observe? ($1.0$ point)\n",
    "\n",
    "There is no great change in the accuracies."
   ]
  },
  {
   "cell_type": "markdown",
   "metadata": {},
   "source": [
    "$c$) What is the reason for this behaviour? Can you come up with a proof of the underlying mathematical fact? ($1.0$ point)\n",
    "\n",
    "\n",
    "Mathmatically, without loss of generality and no nonlinearities could be represented as\n",
    "$$y = M_1M_2x = (M_1M_2)x$$\n",
    "where $M_1$, $M_2$ are the weight matrices corresponding to both layers, respectively. While the 'deeper' version could be represented as\n",
    "$$y = M_1M_2M_1x = (M_1M_2M_3)x$$\n",
    "they are both equivalent to a linear classifier."
   ]
  },
  {
   "cell_type": "markdown",
   "metadata": {},
   "source": [
    "---"
   ]
  },
  {
   "cell_type": "markdown",
   "metadata": {},
   "source": [
    "## Submission instructions\n",
    "You should provide a single Jupyter notebook as a solution. The naming should include the assignment number and matriculation IDs of all team members in the following format:\n",
    "**assignment-5_matriculation1_matriculation_2_matriculation3.ipynb** (in case of 3 team members). \n",
    "Make sure to keep the order matriculation1_matriculation_2_matriculation3 the same for all assignments.\n",
    "\n",
    "Please, submit your solution to your tutor (with **[NNIA][assignment-5]** in email subject):\n",
    "1. Maksym Andriushchenko s8mmandr@stud.uni-saarland.de\n",
    "2. Marius Mosbach s9msmosb@stud.uni-saarland.de\n",
    "3. Rajarshi Biswas rbisw17@gmail.com\n",
    "4. Marimuthu Kalimuthu s8makali@stud.uni-saarland.de\n",
    "\n",
    "**If you are in a team, please submit only 1 solution to only 1 tutor.**"
   ]
  },
  {
   "cell_type": "code",
   "execution_count": null,
   "metadata": {
    "collapsed": true
   },
   "outputs": [],
   "source": []
  }
 ],
 "metadata": {
  "kernelspec": {
   "display_name": "Python 3",
   "language": "python",
   "name": "python3"
  },
  "language_info": {
   "codemirror_mode": {
    "name": "ipython",
    "version": 3
   },
   "file_extension": ".py",
   "mimetype": "text/x-python",
   "name": "python",
   "nbconvert_exporter": "python",
   "pygments_lexer": "ipython3",
   "version": "3.5.1"
  }
 },
 "nbformat": 4,
 "nbformat_minor": 2
}
