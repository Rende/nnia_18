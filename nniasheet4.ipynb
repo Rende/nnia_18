{
 "cells": [
  {
   "cell_type": "markdown",
   "metadata": {},
   "source": [
    "# Exercise Sheet 4: Machine Learning Fundamentals & Linear Regression (Deadline: 01 Dec 23:59)"
   ]
  },
  {
   "cell_type": "markdown",
   "metadata": {},
   "source": [
    "# ML Fundamentals(7 points)\n",
    "For theoretical tasks you are encouraged to write in $\\\\LaTeX$. Jupyter notebooks support them by default. For reference, please have a look at the examples in this short excellent guide: [Typesetting Equations](http://nbviewer.jupyter.org/github/ipython/ipython/blob/3.x/examples/Notebook/Typesetting%20Equations.ipynb)\n",
    "\n",
    "Alternatively, you can upload the solutions in the written form as images and paste them inside the cells. But if you do this, **make sure** that the images are of high quality, so that we can read them without any problems."
   ]
  },
  {
   "cell_type": "markdown",
   "metadata": {},
   "source": [
    "###### 1. Sigmoid Function (1.5 points)\n",
    "The special case of the logistic function is the *sigmoid function* which is defined as:\n",
    "\n",
    "\\begin{equation*}\n",
    "  \\sigma(a) = \\frac{1}{1 + e^{-a}}\n",
    "\\end{equation*}\n",
    "\n",
    "a) Compute its gradient analytically. (0.5 points)"
   ]
  },
  {
   "cell_type": "markdown",
   "metadata": {},
   "source": [
    "b) What are the inherent properties that you observe from the above computed gradient? (0.5 points) <br />\n",
    "   *Hint: Think about how would the gradient signal be for the whole domain of the sigmoid function*"
   ]
  },
  {
   "cell_type": "markdown",
   "metadata": {},
   "source": [
    "c) Prove that the sigmoid function is symmetric. (0.5 points)"
   ]
  },
  {
   "cell_type": "markdown",
   "metadata": {},
   "source": [
    "###### 2. Regularization (3.5 points)\n",
    "\n",
    "In the lecture, we've seen that we can add a *regularizer* to our cost function to avoid *over or underfitting*. For example, consider the following training criterion for linear regression:\n",
    "\n",
    "\\begin{equation*}\n",
    "  J(\\textbf{w}) = \\frac{1}{m}\\sum_{i=1}^{m} \\Vert\\hat{y}^{(i)} - y^{(i)}\\Vert^{2} + \\lambda\\Omega(\\textbf{w})\n",
    "\\end{equation*}\n",
    "where $\\Omega(\\textbf{w}) = \\textbf{w}^{T}\\textbf{w}$ is the regularizer.\n",
    "\n",
    "a) In the above criterion, what is the role of the regularization parameter $\\lambda$ on the regularizer (i.e. parameters of our model) while minimizing $J(\\textbf{w})$? (1.0 point)"
   ]
  },
  {
   "cell_type": "markdown",
   "metadata": {},
   "source": [
    "b) Is $\\lambda$ the model parameter or a hyperparameter? Justify.(0.5 points)"
   ]
  },
  {
   "cell_type": "markdown",
   "metadata": {},
   "source": [
    "c) Derive the closed form solution for the weights ($\\textbf{w}$) in the above criterion.(2.0 points)"
   ]
  },
  {
   "cell_type": "markdown",
   "metadata": {},
   "source": [
    "###### 3. Maximum Likelihood Estimation (MLE) (2 points)\n",
    "Consider the density function of a ***univariate Gaussian distribution***\n",
    "\n",
    "\n",
    "\\begin{equation*}\n",
    " p(x;\\mu,\\sigma^2) = \\frac{1}{\\sqrt{2\\pi\\sigma^2}}exp\\left(-\\frac{1}{2\\sigma^2}(x-\\mu)^{2}\\right)\n",
    "\\end{equation*}\n",
    "where $\\mu$ is the $\\textit{mean}$ and $\\sigma^{2}$ is the $\\textit{variance}$. \n",
    "\n",
    "Let's say you're given *N* samples (i.e. $x_1, x_2, x_3, ..., x_N$) which are drawn from the above stated distribution. Also, you can assume that these samples are **i.i.d** (i.e. [independent and identically distributed](https://en.wikipedia.org/wiki/Independent_and_identically_distributed_random_variables)).\n",
    "\n",
    "Now, please derive the *MLE step-by-step* for:\n",
    "\n",
    "a) *mean* $(\\mu)$. (1.0 point)"
   ]
  },
  {
   "cell_type": "markdown",
   "metadata": {},
   "source": [
    "b) *variance* $(\\sigma^2)$. (1.0 point)"
   ]
  },
  {
   "cell_type": "markdown",
   "metadata": {},
   "source": [
    "# Multiple Linear Regression (13 points)\n",
    "\n",
    "#### 1. Introduction\n",
    "As we have seen in first assignment sheet, when we have one independent (or explanatory) variable and a scalar dependent variable, it is called **simple linear regression**.\n",
    "But, when there are more than one explanatory variable (i.e. $x^{(1)}, x^{(2)}, ...,x^{(k)}$), and a single scalar dependent variable (*y*), then it's called $\\textit{multiple linear regression}$. (Please don't confuse this with *multivariate linear regression* where we predict more than one (correlated) dependent variable.)\n",
    "\n",
    "Here, we will implement a **multiple linear regression** model in Python/NumPy using the *Gradient Descent* algorithm. Particularly, we will be using $\\textit{stochastic gradient descent}$ (*SGD*) where one performs the update step using a small set of training samples of size *batch_size* which we will set to 64. This is again a hyperparameter but in this exercise we will just use a fixed batch-size of *64* (i.e. we go through the training samples sampling 64 at a time and perform gradient descent.) Such a procedure is sometimes called *mini-batch gradient descent* in the deep learning community.\n",
    "\n",
    "Going through all the training samples *once* is called an **epoch**. Ideally, the algorithm has to go through multiple epochs over the training samples, each time shuffling it, until a convergence criterion has been satisfied. <br />\n",
    "\n",
    "Here, we will set a *tolerance value* for the difference in error (i.e. change in MSE values between subsequent epochs) that we will accept. Once this difference falls below the *tolerance value*, we terminate our training phase and return the parameters. \n",
    "\n",
    "We repeat the above training procedure for all possible hyperparameter combinations. Later on, using these parameters (*i.e. weight vectors*), we compute the prediction for validation data and the corresponding MSE values. And then, we pick the hyperparameter combination which yielded the least MSE.\n",
    "\n",
    "As a next step, we will combine training data and validation data and make it as our *new training data*. We keep the test data as it is. Using the hyperparameter combination (for the least MSE) that we found above, we train the model again with the *new training data* and obtain the parameter (*i.e. weight vector*) after convergence according to our *tolerance value*.\n",
    "\n",
    "Phew! That will be our much desired *weight vector*. This is then used on the *test data*, which has not been seen by our algorithm so far, to make a prediction. The resulting MSE value will be the so-called [*generalization error*](https://en.wikipedia.org/wiki/Generalization_error).\n",
    "\n",
    "It is this *generalization error* that we want it to be as low as possible for *unseen data* (implies that we can achieve higher accuracy)."
   ]
  },
  {
   "cell_type": "markdown",
   "metadata": {},
   "source": [
    "#### 2. Dataset\n",
    "For our task, we will be using the *Wine Quality* dataset and predict the quality of white wine based on 11 features such as acidity, citric acid content, residual sugar etc. ."
   ]
  },
  {
   "cell_type": "code",
   "execution_count": 321,
   "metadata": {},
   "outputs": [
    {
     "name": "stdout",
     "output_type": "stream",
     "text": [
      "   fixed acidity  volatile acidity  citric acid  residual sugar  chlorides  \\\n",
      "0            7.0              0.27         0.36            20.7      0.045   \n",
      "1            6.3              0.30         0.34             1.6      0.049   \n",
      "2            8.1              0.28         0.40             6.9      0.050   \n",
      "3            7.2              0.23         0.32             8.5      0.058   \n",
      "4            7.2              0.23         0.32             8.5      0.058   \n",
      "\n",
      "   free sulfur dioxide  total sulfur dioxide  density    pH  sulphates  \\\n",
      "0                 45.0                 170.0   1.0010  3.00       0.45   \n",
      "1                 14.0                 132.0   0.9940  3.30       0.49   \n",
      "2                 30.0                  97.0   0.9951  3.26       0.44   \n",
      "3                 47.0                 186.0   0.9956  3.19       0.40   \n",
      "4                 47.0                 186.0   0.9956  3.19       0.40   \n",
      "\n",
      "   alcohol  quality  \n",
      "0      8.8        6  \n",
      "1      9.5        6  \n",
      "2     10.1        6  \n",
      "3      9.9        6  \n",
      "4      9.9        6  \n",
      "[[  7.     0.27   0.36 ...,   0.45   8.8    6.  ]\n",
      " [  6.3    0.3    0.34 ...,   0.49   9.5    6.  ]\n",
      " [  8.1    0.28   0.4  ...,   0.44  10.1    6.  ]\n",
      " ..., \n",
      " [  6.5    0.24   0.19 ...,   0.46   9.4    6.  ]\n",
      " [  5.5    0.29   0.3  ...,   0.38  12.8    7.  ]\n",
      " [  6.     0.21   0.38 ...,   0.32  11.8    6.  ]]\n"
     ]
    }
   ],
   "source": [
    "%matplotlib inline\n",
    "import itertools\n",
    "import numpy as np\n",
    "import pandas as pd\n",
    "import matplotlib.pyplot as plt\n",
    "\n",
    "# get data\n",
    "data_url = 'http://mlr.cs.umass.edu/ml/machine-learning-databases/wine-quality/winequality-white.csv'\n",
    "data = pd.read_csv(data_url, sep=';')\n",
    "\n",
    "# inspect data\n",
    "print(data.head())\n",
    "#print(data.shape)\n",
    "\n",
    "# data as np array\n",
    "data = data.values\n",
    "\n",
    "print(data)"
   ]
  },
  {
   "cell_type": "markdown",
   "metadata": {},
   "source": [
    "#### 3. Loss function\n",
    "We will use a *regularized* form of the MSE loss function. In matrix form it can be written as follows:\n",
    "\n",
    "\\begin{equation*}\n",
    "    J(\\textbf{w}) = \\frac{1}{2} \\Vert{X\\textbf{w}-\\textbf{y}}\\Vert^{2} + \\frac{\\lambda}{2}\\Vert{\\textbf{w}}\\Vert^{2}\n",
    "\\end{equation*}\n",
    "\n",
    "It's important to note that, in the above equation, $X$, called *design matrix*, is the horizontal concatenation of shape *(batch_size, num_features)* according to the *order* of the polynomial. To make things easier, you can add the *bias* term as the first column of $X$. Take care to have the *weight* vector $\\textbf{w}$ with matching dimensions.\n",
    "\n",
    "$\\textit{Hint}$: see [Design_matrix#Multiple_regression](https://en.wikipedia.org/wiki/Design_matrix#Multiple_regression) for how $X$ with 2 features looks like for $1^{st}$ degree polynomial."
   ]
  },
  {
   "cell_type": "markdown",
   "metadata": {},
   "source": [
    "a) Derive the gradient (w.r.t $\\textbf{w}$) for the regularized loss function given in **3**. (1.0 point)\n",
    "\n",
    "\\begin{equation*}\n",
    "    J(\\textbf{w}) = \\frac{1}{2m} ({X\\textbf{w}-\\textbf{y}})^{T}({X\\textbf{w}-\\textbf{y}}) + \\frac{\\lambda}{2m}\\sum_{j=1}^{n}{\\textbf{w}_j}^{2}\n",
    "\\end{equation*}\n",
    "\\begin{equation*}\n",
    "\\nabla_wJ(\\textbf{w}) = X^T({X\\textbf{w}-\\textbf{y}})+ \\lambda\\textbf{w}\n",
    "\\end{equation*}"
   ]
  },
  {
   "cell_type": "markdown",
   "metadata": {},
   "source": [
    "#### 4. Matrix format for higher order polynomial\n",
    "\n",
    "Written in matrix form, linear regression model for second order would look like: <br />\n",
    "$$\\hat{\\textbf{y}} = X\\textbf{w}_{1} + X^{2}\\textbf{w}_{2} + \\textbf{b}$$\n",
    "\n",
    "where $X^{2}$ is the element-wise squaring of the original design matrix $X$, $\\textbf{w}_1$ and $\\textbf{w}_2$ are the *weight* vectors, and **b** is the *bias* vector.\n",
    "\n",
    "a) Now, please write down the matrix format for a $9^{th}$ order linear regression model (0.5 points)\n",
    "$$\\hat{\\textbf{y}} =\\textbf{b} + \\sum_{i=1}^{9} w_{i}x^{i} $$"
   ]
  },
  {
   "cell_type": "markdown",
   "metadata": {},
   "source": [
    "#### 5. Hyperparameters\n",
    "we will experiment with three hyperparameters:\n",
    "\n",
    "i) regularization parameter $\\lambda$ <br />\n",
    "ii) learning rate $\\epsilon$ <br />\n",
    "iii) order of polynomial *p*\n",
    "\n",
    "And do a grid search over the values that these hyperparameters can take in order to select the best combination (i.e. the one that achieves lowest test error). This approach is called **hyperparameter optimization or tuning**."
   ]
  },
  {
   "cell_type": "code",
   "execution_count": 322,
   "metadata": {},
   "outputs": [],
   "source": [
    "polynomial_order = [1, 5, 9]\n",
    "learning_rates = [1e-5, 1e-8]\n",
    "lambdas = [0.1, 0.8]\n",
    "\n",
    "#hyperparams combination\n",
    "comb_gen = itertools.product(*(polynomial_order, learning_rates, lambdas))\n",
    "hparams_comb = list(comb_gen)\n",
    "\n",
    "batch_size = 64"
   ]
  },
  {
   "cell_type": "markdown",
   "metadata": {},
   "source": [
    "#### 6. Normalization\n",
    "First of all, inspect the data, and understand its structure and features. Ideally, before starting to train our learning algorithm, we would want the data to be normalized. Here, we normalize the data (i.e. normalize each column) using the formula:\n",
    "\n",
    "\\begin{equation*}\n",
    "  norm\\_x_i = \\frac{x_i - min(x)}{max(x) - min(x)}\n",
    "\\end{equation*}\n",
    "where $x_i$ is the $i^{th}$ sample in feature $x$\n",
    "\n",
    "a) Complete the following function which performs normalization (i.e. normalizes columns of $X$). (0.5 points)"
   ]
  },
  {
   "cell_type": "code",
   "execution_count": 323,
   "metadata": {},
   "outputs": [
    {
     "name": "stdout",
     "output_type": "stream",
     "text": [
      "[[ 0.30769231  0.18627451  0.21686747 ...,  0.26744186  0.12903226  0.5       ]\n",
      " [ 0.24038462  0.21568627  0.20481928 ...,  0.31395349  0.24193548  0.5       ]\n",
      " [ 0.41346154  0.19607843  0.24096386 ...,  0.25581395  0.33870968  0.5       ]\n",
      " ..., \n",
      " [ 0.25961538  0.15686275  0.11445783 ...,  0.27906977  0.22580645  0.5       ]\n",
      " [ 0.16346154  0.20588235  0.18072289 ...,  0.18604651  0.77419355\n",
      "   0.66666667]\n",
      " [ 0.21153846  0.12745098  0.22891566 ...,  0.11627907  0.61290323  0.5       ]]\n"
     ]
    }
   ],
   "source": [
    "def data_normalization(data):\n",
    "    data_normalized = (data - np.min(data,0)) / (np.max(data,0) - np.min(data,0))\n",
    "    return data_normalized\n",
    "\n",
    "# perform data normalization\n",
    "data_normalized = data_normalization(data)\n",
    "data_npr = data_normalized\n",
    "print (data_npr)"
   ]
  },
  {
   "cell_type": "code",
   "execution_count": 324,
   "metadata": {},
   "outputs": [],
   "source": [
    "def split_data(data_npr):\n",
    "    # (in-place) shuffling of data_npr along axis 0\n",
    "    np.random.shuffle(data_npr)\n",
    "\n",
    "    n_tr = 3898\n",
    "    n_va = n_tr + 500\n",
    "    n_te = n_va + 500\n",
    "    \n",
    "    X_train = data_npr[0:n_tr, 0:-1]\n",
    "    Y_train = data_npr[0:n_tr, -1]\n",
    "    \n",
    "    X_val = data_npr[n_tr:n_va, 0:-1]\n",
    "    Y_val = data_npr[n_tr:n_va, -1]\n",
    "    \n",
    "    X_test = data_npr[n_va:, 0:-1]\n",
    "    Y_test = data_npr[n_va:, -1]\n",
    "    \n",
    "    return [(X_train, Y_train), (X_val, Y_val), (X_test, Y_test)]\n",
    "\n",
    "\n",
    "# shuffle only the training data along axis 0\n",
    "def shuffle_train_data(X_train, Y_train):\n",
    "    \"\"\"called after each epoch\"\"\"\n",
    "    perm = np.random.permutation(len(Y_train))\n",
    "    Xtr_shuf = X_train[perm]\n",
    "    Ytr_shuf = Y_train[perm]\n",
    "    \n",
    "    return Xtr_shuf, Ytr_shuf"
   ]
  },
  {
   "cell_type": "markdown",
   "metadata": {},
   "source": [
    "###### 7. Implementation of required functions\n",
    "\n",
    "Complete the following function which computes the MSE value. (0.5 point) <br />\n",
    "(i.e. just a vanilla version of it.) That is, you can ignore the regularization term and also the constants $\\frac{1}{2}$"
   ]
  },
  {
   "cell_type": "code",
   "execution_count": 325,
   "metadata": {},
   "outputs": [
    {
     "name": "stdout",
     "output_type": "stream",
     "text": [
      "15.3333333333\n"
     ]
    }
   ],
   "source": [
    "def compute_mse(prediction, ground_truth):\n",
    "    # TODO: implement\n",
    "    ground_truth = np.reshape(ground_truth, (np.shape(ground_truth)[0], 1))\n",
    "    mse = np.mean(np.square(prediction - ground_truth))\n",
    "    return mse\n",
    "\n",
    "prediction = np.array([1, 3, 6])\n",
    "truth = np.array([0, 0, 0])\n",
    "mse = compute_mse(prediction, truth)\n",
    "print (mse)"
   ]
  },
  {
   "cell_type": "markdown",
   "metadata": {},
   "source": [
    "Implement a function which computes the prediction of your model. (0.5 point)"
   ]
  },
  {
   "cell_type": "code",
   "execution_count": 326,
   "metadata": {},
   "outputs": [
    {
     "name": "stdout",
     "output_type": "stream",
     "text": [
      "[ 1.2  3.2  4.   2.8  6. ]\n"
     ]
    }
   ],
   "source": [
    "def get_prediction(X, W):\n",
    "    # TODO: implement\n",
    "    Yhat = np.matmul(X, W)\n",
    "    return Yhat\n",
    "\n",
    "dataset = [[1, 1], [2, 3], [4, 3], [3, 2], [5, 5]]\n",
    "coef = [0.4, 0.8]\n",
    "for row in dataset:\n",
    "    yhat = get_prediction(dataset, np.transpose(coef))\n",
    "    \n",
    "print (yhat)"
   ]
  },
  {
   "cell_type": "markdown",
   "metadata": {},
   "source": [
    "Implement a function which computes the gradient of your loss function. (1.0 point) <br />\n",
    "*Hint: Just implementing the gradient computed in **3.** (a)*"
   ]
  },
  {
   "cell_type": "code",
   "execution_count": 327,
   "metadata": {},
   "outputs": [],
   "source": [
    "def compute_gradient(X, Y, Yhat, W, lambda_):\n",
    "    # TODO: implement\n",
    "    Y = np.reshape(Y, (np.shape(Y)[0],1))\n",
    "    X_T = np.transpose(X)\n",
    "    gradient = np.matmul(X_T,(Yhat - Y)) + lambda_ * W\n",
    "    return gradient\n"
   ]
  },
  {
   "cell_type": "markdown",
   "metadata": {},
   "source": [
    "Implement a function which performs a single update step of SGD. (0.5 point)"
   ]
  },
  {
   "cell_type": "code",
   "execution_count": 328,
   "metadata": {},
   "outputs": [],
   "source": [
    "# Hint: avoid in-place modification\n",
    "def sgd(gradient, lr, cur_W):\n",
    "    # TODO: implement\n",
    "    new_W = cur_W - (lr * gradient)\n",
    "    return new_W\n"
   ]
  },
  {
   "cell_type": "markdown",
   "metadata": {},
   "source": [
    "Complete the following function which reformats your data as a design matrix. (0.5 point)"
   ]
  },
  {
   "cell_type": "code",
   "execution_count": 329,
   "metadata": {},
   "outputs": [],
   "source": [
    "# concatenate X acc. to order of polynomial; likewise do it for W\n",
    "# where X is design matrix, W is the corresponding weight vector\n",
    "# [1 X X^2 X^3], [1 W1 W2 W3].T\n",
    "\n",
    "#this function is not done yet\n",
    "def prepare_data_matrix(X, W, order):\n",
    "    # TODO: implement\n",
    "    X_mat = np.ones(shape=(np.shape(X)[0],1))\n",
    "    W_vec = np.ones(1)\n",
    "    for i in range(order):\n",
    "        X_new = X ** (i+1)\n",
    "        X_mat = np.c_[X_mat, X_new]\n",
    "        W_vec = np.transpose(np.c_[np.transpose(W_vec), np.transpose(W)])\n",
    "    return X_mat, W_vec\n",
    "\n",
    "# X = np.array([[1, 2, 3], [4, 5, 6]], np.int32)\n",
    "# W = np.array([[1, 2, 3]], np.int32)\n",
    "# x_mat, w_vec = prepare_data_matrix(X, W, 3)\n",
    "# print (x_mat.shape)\n",
    "# print (w_vec)\n",
    "# # prediction = get_prediction(x_mat, w_vec)"
   ]
  },
  {
   "cell_type": "markdown",
   "metadata": {},
   "source": [
    "###### 8. Training\n",
    "Complete the code in the following cell such that it performs **mini-batch gradient descent** on the training data for all possible hyperparameter combinations. (4.0 points)\n",
    "\n",
    "Note: You can also define a function, named appropriately, which performs training. But, take care to do correct bookkeeping of hyperparameter combinations, weight vectors, and the MSE values."
   ]
  },
  {
   "cell_type": "code",
   "execution_count": 330,
   "metadata": {},
   "outputs": [
    {
     "name": "stdout",
     "output_type": "stream",
     "text": [
      "order: 1 , learning rate: 1e-05 , regularizer: 0.1 \n",
      "Convergence after epoch 5794 with MSE 0.01785756986515437 \n",
      "\n",
      "order: 1 , learning rate: 1e-05 , regularizer: 0.8 \n",
      "Convergence after epoch 2717 with MSE 0.01675537633160378 \n",
      "\n",
      "order: 1 , learning rate: 1e-08 , regularizer: 0.1 \n",
      "Convergence after epoch 37234 with MSE 0.1971833073389221 \n",
      "\n",
      "order: 1 , learning rate: 1e-08 , regularizer: 0.8 \n",
      "Convergence after epoch 39086 with MSE 0.1901271572426883 \n",
      "\n",
      "order: 5 , learning rate: 1e-05 , regularizer: 0.1 \n",
      "Convergence after epoch 8160 with MSE 0.018520469309808833 \n",
      "\n",
      "order: 5 , learning rate: 1e-05 , regularizer: 0.8 \n",
      "Convergence after epoch 3371 with MSE 0.0166590380087997 \n",
      "\n",
      "order: 5 , learning rate: 1e-08 , regularizer: 0.1 \n",
      "Convergence after epoch 273938 with MSE 0.40929591276496646 \n",
      "\n",
      "order: 5 , learning rate: 1e-08 , regularizer: 0.8 \n",
      "Convergence after epoch 286693 with MSE 0.31145224617016487 \n",
      "\n",
      "order: 9 , learning rate: 1e-05 , regularizer: 0.1 \n",
      "Convergence after epoch 9835 with MSE 0.018634782778985965 \n",
      "\n",
      "order: 9 , learning rate: 1e-05 , regularizer: 0.8 \n",
      "Convergence after epoch 3830 with MSE 0.0167794518022665 \n",
      "\n",
      "order: 9 , learning rate: 1e-08 , regularizer: 0.1 \n",
      "Convergence after epoch 369584 with MSE 0.49622882947219615 \n",
      "\n",
      "order: 9 , learning rate: 1e-08 , regularizer: 0.8 \n",
      "Convergence after epoch 377867 with MSE 0.3534978036432591 \n",
      "\n"
     ]
    }
   ],
   "source": [
    "splits = split_data(data_npr)\n",
    "X_train, Y_train, X_val, Y_val, X_test, Y_test = itertools.chain(*splits)\n",
    "\n",
    "tolerance = 1e-6\n",
    "start = 1\n",
    "\n",
    "# initialize weight vector from normal distribution\n",
    "# TODO: implement\n",
    "W_init = np.array([np.random.randn(np.shape(X_train)[1])])\n",
    "W_init = np.transpose(W_init)\n",
    "\n",
    "\n",
    "# cache weights for each hyperparam combination\n",
    "# TODO: implement\n",
    "weights_hist = {}\n",
    "for order in polynomial_order:\n",
    "    for lr in learning_rates:\n",
    "        for lamb in lambdas:\n",
    "            weights_hist[(order, lr, lamb)] = W_init\n",
    "\n",
    "# keep track of MSE for each hparam combination. will be useful for plotting\n",
    "# TODO: implement\n",
    "mse_hist = {}\n",
    "for order in polynomial_order:\n",
    "    for lr in learning_rates:\n",
    "        for lamb in lambdas:\n",
    "            mse_hist[(order, lr, lamb)] = np.finfo(np.float64).max\n",
    "\n",
    "# find optimal hyperparameters\n",
    "for order in polynomial_order:\n",
    "    for lr in learning_rates:\n",
    "        for lamb in lambdas:\n",
    "            # initialize necessary stuffs\n",
    "            # TODO: implement\n",
    "            \n",
    "            # design matrix needed at this point\n",
    "            # use the function that we defined above\n",
    "            # TODO: implement\n",
    "            X_mat, W_vec = prepare_data_matrix(X_train, W_init, order)\n",
    "            Y_vec = Y_train\n",
    "\n",
    "            epochs = 1\n",
    "            # goes through multiple epochs\n",
    "            while True:\n",
    "                # good idea to shuffle the train data\n",
    "                # TODO: implement\n",
    "                X_mat, Y_vec = shuffle_train_data(X_mat, Y_vec)\n",
    "                \n",
    "                # some more initialization\n",
    "                # TODO: implement\n",
    "                bs = 0\n",
    "                nsamples = np.shape(X_mat)[0]\n",
    "#                 prediction = np.empty(Y_vec.shape)\n",
    "                # goes through 1 epoch\n",
    "                while bs < nsamples:\n",
    "                    X = X_mat[bs:bs + batch_size, ]\n",
    "                    Y = Y_vec[bs:bs + batch_size, ]\n",
    "                    predictions = get_prediction(X, W_vec)\n",
    "                    gradient = compute_gradient(X, Y, predictions, W_vec, lamb)\n",
    "                    W_vec = sgd(gradient, lr, W_vec)\n",
    "                    bs = bs + batch_size\n",
    "                    # complete code for 1 epoch\n",
    "                    # TODO: implement\n",
    "                    \n",
    "                # after each epoch\n",
    "                # get prediction for whole X_train\n",
    "                # compute the MSE\n",
    "                # might need to do bookkeeping of mse values as well\n",
    "                batch_predictions = get_prediction(X_mat, W_vec)\n",
    "                mse = compute_mse(batch_predictions, Y_vec)\n",
    "                mse_h = mse_hist[(order, lr, lamb)]\n",
    "                mse_hist[(order, lr, lamb)] = mse\n",
    "#               print(\"Convergence after epoch {} with MSE {}\".format(epochs, mse), \"\\n\")\n",
    "\n",
    "                # stopping/convergence criterion\n",
    "                # check whether diff-in-mse < tolerance\n",
    "                # TODO: implement\n",
    "                diff_in_mse = np.abs(mse_h - mse)\n",
    "                if(diff_in_mse < tolerance):\n",
    "                    weights_hist[(order, lr, lamb)] = W_vec\n",
    "                    print(\"order: {} , learning rate: {} , regularizer: {} \".format(order, lr, lamb))\n",
    "                    print(\"Convergence after epoch {} with MSE {}\".format(epochs, mse), \"\\n\")\n",
    "                    break\n",
    "                epochs += 1\n",
    "                \n",
    "                    # cache weight vector for later use\n",
    "                    # but we also need the hparam combination\n",
    "                    # TODO: implement\n",
    "                \n",
    "            "
   ]
  },
  {
   "cell_type": "markdown",
   "metadata": {},
   "source": [
    "Complete the following function which selects the best hyperparameter combination (i.e. the one that gives lowest MSE on **validation data**). (0.5 point)"
   ]
  },
  {
   "cell_type": "code",
   "execution_count": 335,
   "metadata": {},
   "outputs": [
    {
     "name": "stdout",
     "output_type": "stream",
     "text": [
      "(1, 1e-05, 0.8)\n"
     ]
    }
   ],
   "source": [
    "# find hparams of minimum MSE on Validation data\n",
    "def find_best_hparams(weights_hist):\n",
    "    # TODO: implement\n",
    "    mse_best = np.finfo(np.float64).max\n",
    "    for order in polynomial_order:\n",
    "        for lr in learning_rates:\n",
    "            for lamb in lambdas:\n",
    "                X_mat, W_vec = prepare_data_matrix(X_val, weights_hist[(order, lr, lamb)], order)\n",
    "                Y_vec = Y_val \n",
    "                prediction = get_prediction(X_mat, weights_hist[(order, lr, lamb)])\n",
    "                mse = compute_mse(prediction, Y_vec)\n",
    "                if(mse < mse_best):\n",
    "                    mse_best = mse\n",
    "                    best_hpm_combination = (order, lr, lamb)\n",
    "    return best_hpm_combination\n",
    "                    \n",
    "\n",
    "best_hpm_combination = find_best_hparams(weights_hist)\n",
    "print (best_hpm_combination)"
   ]
  },
  {
   "cell_type": "markdown",
   "metadata": {},
   "source": [
    "###### 9. Re-Training on Train + Validation data\n",
    "Complete the following function which does re-training on the combined training and validation data. (**1 point**)"
   ]
  },
  {
   "cell_type": "code",
   "execution_count": 336,
   "metadata": {},
   "outputs": [
    {
     "name": "stdout",
     "output_type": "stream",
     "text": [
      "order: 1 , learning rate: 1e-05 , regularizer: 0.8 \n",
      "Convergence after epoch 2450 with MSE 0.017036767092912696 \n",
      "\n"
     ]
    }
   ],
   "source": [
    "# re-run the training on X_train + X_val combined\n",
    "# Later test it on X_test; That will be our best possible MSE on test data\n",
    "# this will be more or less the same training code as you did above\n",
    "# but, here we just have only one value for each hyperparameter.\n",
    "X_com = np.transpose(np.c_[np.transpose(X_train), np.transpose(X_val)])\n",
    "Y_train = np.reshape(Y_train, (np.shape(Y_train)[0],1))\n",
    "Y_val = np.reshape(Y_val, (np.shape(Y_val)[0],1))\n",
    "Y_com = np.transpose(np.c_[np.transpose(Y_train), np.transpose(Y_val)])\n",
    "\n",
    "\n",
    "\n",
    "X_mat, W_vec = prepare_data_matrix(X_com, W_init, order)\n",
    "Y_vec = Y_com\n",
    "\n",
    "order, lr, lamb = best_hpm_combination\n",
    "mse_list = []\n",
    "index = 0\n",
    "mse_list.append(np.finfo(np.float64).max)\n",
    "epochs = 1\n",
    "# goes through multiple epochs\n",
    "while True:\n",
    "    \n",
    "    X_mat, Y_vec = shuffle_train_data(X_mat, Y_vec)\n",
    "    bs = 0\n",
    "    nsamples = np.shape(X_mat)[0]\n",
    "    while bs < nsamples:\n",
    "        X = X_mat[bs:bs + batch_size, ]\n",
    "        Y = Y_vec[bs:bs + batch_size, ]\n",
    "        predictions = get_prediction(X, W_vec)\n",
    "        gradient = compute_gradient(X, Y, predictions, W_vec, lamb)\n",
    "        W_vec = sgd(gradient, lr, W_vec)\n",
    "        bs = bs + batch_size\n",
    "                    \n",
    "    batch_predictions = get_prediction(X_mat, W_vec)\n",
    "    mse = compute_mse(batch_predictions, Y_vec)\n",
    "    mse_h = mse_list[index]\n",
    "    index += 1\n",
    "    mse_list.append(mse)\n",
    "    diff_in_mse = np.abs(mse_h - mse)\n",
    "    if(diff_in_mse < tolerance):\n",
    "        weights_best = W_vec\n",
    "        print(\"order: {} , learning rate: {} , regularizer: {} \".format(order, lr, lamb))\n",
    "        print(\"Convergence after epoch {} with MSE {}\".format(epochs, mse), \"\\n\")\n",
    "        break\n",
    "    epochs += 1\n"
   ]
  },
  {
   "cell_type": "code",
   "execution_count": 337,
   "metadata": {},
   "outputs": [
    {
     "data": {
      "text/plain": [
       "[<matplotlib.lines.Line2D at 0x10d291f28>]"
      ]
     },
     "execution_count": 337,
     "metadata": {},
     "output_type": "execute_result"
    },
    {
     "data": {
      "image/png": "[encoded data removed]",
      "text/plain": [
       "<matplotlib.figure.Figure at 0x10d291f60>"
      ]
     },
     "metadata": {},
     "output_type": "display_data"
    }
   ],
   "source": [
    "# plot the convergence of MSE values using matplotlib\n",
    "# i.e. #epochs on X-axis and MSE values on Y-axis\n",
    "# TODO: implement\n",
    "plot = plt.subplot(1, 1, 1)\n",
    "plot.plot(range(epochs),mse_list[1:len(mse_list)])"
   ]
  },
  {
   "cell_type": "markdown",
   "metadata": {},
   "source": [
    "###### 10. Evaluation on Test set\n",
    "Evaluate your model on test data. (1.0 point)\n",
    "\n",
    "**Please note that you should keep X_test undisturbed throughout this whole phase.** Else restart the kernel and start from beginning. The whole point of this exercise would not make sense if test data has been *seen in training*."
   ]
  },
  {
   "cell_type": "code",
   "execution_count": 338,
   "metadata": {},
   "outputs": [
    {
     "name": "stdout",
     "output_type": "stream",
     "text": [
      "Finally!!! MSE achieved on X_test is : 0.014996\n"
     ]
    }
   ],
   "source": [
    "# finally!!!\n",
    "# test it on X_test with the Weight vector that you found above\n",
    "# this will be the generalization error of our model!!\n",
    "# TODO: implement\n",
    "X_mat, _ = prepare_data_matrix(X_test, W_init, order)\n",
    "# print(weights_best)\n",
    "predictions = get_prediction(X_mat, weights_best)\n",
    "mse_test = compute_mse(predictions, Y_test)\n",
    "print(\"Finally!!! MSE achieved on X_test is : {}\".format(round(mse_test, 6)))"
   ]
  },
  {
   "cell_type": "markdown",
   "metadata": {},
   "source": [
    "###### 11. Results\n",
    "Please report the following\n",
    "\n",
    "a) MSE value on Test data. (0.5 points)"
   ]
  },
  {
   "cell_type": "markdown",
   "metadata": {},
   "source": [
    "b) Which hyperparameter combination turned out to be the best? In your understanding, why do you think such a combination turned out to be the best for this task? (1.0 point)"
   ]
  },
  {
   "cell_type": "markdown",
   "metadata": {},
   "source": [
    "# Bonus (2 points)\n",
    "\n",
    "Now, please repeat the whole *training, validation, re-training, and testing* procedure that we talked about above with the following hyperparameter combination:"
   ]
  },
  {
   "cell_type": "code",
   "execution_count": null,
   "metadata": {},
   "outputs": [],
   "source": [
    "polynomial_order = [1]\n",
    "learning_rates = [0.1]\n",
    "lambdas = [0.1]"
   ]
  },
  {
   "cell_type": "markdown",
   "metadata": {},
   "source": [
    "What are your observations during the training phase? Please explain why such a behaviour happened."
   ]
  },
  {
   "cell_type": "markdown",
   "metadata": {},
   "source": [
    "---"
   ]
  },
  {
   "cell_type": "markdown",
   "metadata": {},
   "source": [
    "## Submission instructions\n",
    "You should provide a single Jupyter notebook as the solution. The naming should include the assignment number and matriculation IDs of all members in your team in the following format:\n",
    "**assignment-4_matriculation1_matriculation2_matriculation3.ipynb** (in case of 3 members in a team). \n",
    "Make sure to keep the order matriculation1_matriculation2_matriculation3 the same for all assignments.\n",
    "\n",
    "Please submit the solution to your tutor (with **[NNIA][assignment-4]** in email subject):\n",
    "1. Maksym Andriushchenko <s8mmandr@stud.uni-saarland.de>\n",
    "2. Marius Mosbach <s9msmosb@stud.uni-saarland.de>\n",
    "3. Rajarshi Biswas <rbisw17@gmail.com>\n",
    "4. Marimuthu Kalimuthu <s8makali@stud.uni-saarland.de>\n",
    "\n",
    "Note: **If you are in a team, please submit only 1 solution to only 1 tutor.**"
   ]
  }
 ],
 "metadata": {
  "kernelspec": {
   "display_name": "Python 3",
   "language": "python",
   "name": "python3"
  },
  "language_info": {
   "codemirror_mode": {
    "name": "ipython",
    "version": 3
   },
   "file_extension": ".py",
   "mimetype": "text/x-python",
   "name": "python",
   "nbconvert_exporter": "python",
   "pygments_lexer": "ipython3",
   "version": "3.5.1"
  }
 },
 "nbformat": 4,
 "nbformat_minor": 2
}
